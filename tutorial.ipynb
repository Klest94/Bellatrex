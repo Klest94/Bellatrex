{
 "cells": [
  {
   "cell_type": "markdown",
   "metadata": {},
   "source": [
    "## Getting started\n",
    "Upload needed libraries and setting up the dataset"
   ]
  },
  {
   "cell_type": "code",
   "execution_count": 1,
   "metadata": {},
   "outputs": [
    {
     "name": "stdout",
     "output_type": "stream",
     "text": [
      "0.2.2\n",
      "c:\\Users\\u0135479\\Documents\\GitHub\\Bellatrex\n"
     ]
    }
   ],
   "source": [
    "import numpy as np\n",
    "import pandas as pd\n",
    "import os\n",
    "import bellatrex as btrex\n",
    "print(btrex.__version__)\n",
    "\n",
    "PLOT_GUI = False\n",
    "\n",
    "##########################################################################\n",
    "root_folder = os.getcwd()\n",
    "print(root_folder)"
   ]
  },
  {
   "cell_type": "code",
   "execution_count": 2,
   "metadata": {},
   "outputs": [],
   "source": [
    "from sksurv.ensemble import RandomSurvivalForest\n",
    "from sklearn.ensemble import RandomForestClassifier\n",
    "from sklearn.ensemble import RandomForestRegressor\n",
    "\n",
    "from sklearn.model_selection import train_test_split\n",
    "\n",
    "\n",
    "from bellatrex.datasets import load_mtr_data, load_mlc_data\n",
    "from bellatrex.datasets import load_survival_data, load_binary_data, load_regression_data\n",
    "from bellatrex.utilities import get_auto_setup\n",
    "\n",
    "X, y = load_binary_data(return_X_y=True)\n",
    "# X, y = load_regression_data(return_X_y=True)\n",
    "# X, y = load_survival_data(return_X_y=True)\n",
    "# X, y = load_mlc_data(return_X_y=True)\n",
    "# X, y = load_mtr_data(return_X_y=True)\n",
    "\n",
    "X_train, X_test, y_train, y_test = train_test_split(X, y, test_size=0.3, random_state=0)"
   ]
  },
  {
   "cell_type": "markdown",
   "metadata": {},
   "source": [
    "Depending on the prediction task, we train a compatible Random Forest model."
   ]
  },
  {
   "cell_type": "code",
   "execution_count": 3,
   "metadata": {},
   "outputs": [
    {
     "name": "stdout",
     "output_type": "stream",
     "text": [
      "Detected prediction task 'SETUP': binary\n",
      "Model fitting complete.\n"
     ]
    }
   ],
   "source": [
    "SETUP = get_auto_setup(y) # not necessary, but comfortable while swithcing between mnay prediction tasks\n",
    "print('Detected prediction task \\'SETUP\\':', SETUP)\n",
    "\n",
    "from sksurv.ensemble import RandomSurvivalForest\n",
    "from sklearn.ensemble import RandomForestClassifier\n",
    "from sklearn.ensemble import RandomForestRegressor\n",
    "\n",
    "### instantiate original R(S)F estimator, works best with some pruning.\n",
    "if SETUP.lower() in 'survival':\n",
    "    clf = RandomSurvivalForest(n_estimators=100, min_samples_split=10,\n",
    "                                n_jobs=-2, random_state=0)\n",
    "\n",
    "elif SETUP.lower() in ['binary', 'multi-label']:\n",
    "    clf = RandomForestClassifier(n_estimators=100, min_samples_split=5,\n",
    "                                n_jobs=-2, random_state=0)\n",
    "\n",
    "elif SETUP.lower() in ['regression', 'multi-target']:\n",
    "    clf = RandomForestRegressor(n_estimators=100, min_samples_split=5,\n",
    "                                n_jobs=-2, random_state=0)\n",
    "\n",
    "\n",
    "from bellatrex import BellatrexExplain\n",
    "from bellatrex.wrapper_class import EnsembleWrapper, tree_list_to_model, tree_to_dict\n",
    "\n",
    "clf.fit(X_train, y_train)\n",
    "print('Model fitting complete.')"
   ]
  },
  {
   "cell_type": "markdown",
   "metadata": {},
   "source": [
    "In case the RF model to be explained is trained externally, it can be packed with `pack_trained_ensemble`.\n",
    "Later, such packed pretained model can be loaded to Bellatrex by calling `EnsembleWrapper` as in the following lines: "
   ]
  },
  {
   "cell_type": "code",
   "execution_count": 7,
   "metadata": {},
   "outputs": [
    {
     "name": "stdout",
     "output_type": "stream",
     "text": [
      "<class 'dict'>\n",
      "<class 'bellatrex.wrapper_class.EnsembleWrapper'>\n"
     ]
    }
   ],
   "source": [
    "from bellatrex.wrapper_class import EnsembleWrapper, pack_trained_ensemble\n",
    "\n",
    "clf_packed = pack_trained_ensemble(clf) #packs the ensemble model into a lightweight dictionary\n",
    "print(type(clf_packed))\n",
    "\n",
    "# Load the pretrained model and make it compatible with Bellatrex through EnsembleWrapper()\n",
    "clf2 = EnsembleWrapper(clf_packed) # ensures compatibility of the pre-trained model with Bellatrex\n",
    "print(type(clf2))"
   ]
  },
  {
   "cell_type": "markdown",
   "metadata": {},
   "source": [
    "## Building Explanations through a LocalLy AccuraTe Rule EXtractor:\n",
    "Now we can fit Bellatrex on the training data and run it on a few test samples\n",
    "After fitting and tuning the explainer to a specific test isntance, you can:\n",
    "- plot_overview() to get a representation of the tree learners, and of the selected rules;\n",
    "    GUI is available for this plotting method (set the paramter `plot_gui = True`).\n",
    "- plot_visuals() to visualise the selected rules in a more use friendly way."
   ]
  },
  {
   "cell_type": "code",
   "execution_count": null,
   "metadata": {},
   "outputs": [],
   "source": [
    "from bellatrex import BellatrexExplain\n",
    "\n",
    "\n",
    "#fit RF here. The hyperparameters are given\n",
    "# compatible with trained model clf, and with a wrapped dictionary as in clf1\n",
    "Btrex_fitted = BellatrexExplain(clf, set_up='auto',\n",
    "                                p_grid={\"n_clusters\": [1, 2, 3]},\n",
    "                                verbose=3).fit(X_train, y_train)\n",
    "\n",
    "N_TEST_SAMPLES = 2\n",
    "for i in range(N_TEST_SAMPLES):\n",
    "\n",
    "    print(f\"Explaining sample i={i}\")\n",
    "\n",
    "    y_train_pred = clf.predict_proba(X_train)[:,1]\n",
    "\n",
    "    tuned_method = Btrex_fitted.explain(X_test, i)\n",
    "    tuned_method.plot_overview(plot_gui=False,\n",
    "                               show=True)\n",
    "\n",
    "    tuned_method.plot_visuals(plot_max_depth=5,\n",
    "                              preds_distr=y_train_pred,\n",
    "                              conf_level=0.9,\n",
    "                              tot_digits=4)\n",
    "    # plt.show()\n"
   ]
  }
 ],
 "metadata": {
  "kernelspec": {
   "display_name": "base",
   "language": "python",
   "name": "python3"
  },
  "language_info": {
   "codemirror_mode": {
    "name": "ipython",
    "version": 3
   },
   "file_extension": ".py",
   "mimetype": "text/x-python",
   "name": "python",
   "nbconvert_exporter": "python",
   "pygments_lexer": "ipython3",
   "version": "3.10.13"
  }
 },
 "nbformat": 4,
 "nbformat_minor": 2
}
