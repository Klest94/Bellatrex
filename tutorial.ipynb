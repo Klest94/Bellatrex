{
 "cells": [
  {
   "attachments": {},
   "cell_type": "markdown",
   "metadata": {},
   "source": [
    "# Welcome to Bellatrex\n",
    "\n",
    "After making sure that the needed packages are installed, we can dive into the `tutorial.py` code.\n",
    "\n",
    "## Step 1: import libraries and set parameters\n",
    "\n",
    "Import the required libraries and set the parameters for the grid search, data folder paths, and other configuration variables"
   ]
  },
  {
   "cell_type": "code",
   "execution_count": 96,
   "metadata": {},
   "outputs": [],
   "source": [
    "import numpy as np\n",
    "import os\n",
    "os.environ[\"OMP_NUM_THREADS\"] = \"1\" # avoids memory leak UserWarning caused by KMeans\n",
    "import pandas as pd\n",
    "\n",
    "# reduce MAX_TEST_SIZE for quick code testing\n",
    "MAX_TEST_SIZE = 999 # default size is len(X_test), limited to max 100 samples. Set a small number for quicker testing on fewer instances\n",
    "\n",
    "p_grid = {\n",
    "    \"n_trees\": [0.6, 0.8, 1.0],\n",
    "    \"n_dims\": [2, 5, None],\n",
    "    \"n_clusters\": [1, 2, 3]\n",
    "    }\n",
    "\n",
    "##########################################################################\n",
    "root_folder = os.getcwd()\n",
    "\n",
    "data_folder = os.path.join(root_folder, \"example-data\")\n",
    "\n",
    "''' choose appropriate learning task wth SETUP parameter '''\n",
    "SETUP = \"mtr\" # \"bin\"\",\" \"surv\", or \"mtr\" \n",
    "\n",
    "VERBOSE = 2\n",
    "\n",
    "PLOT_GUI = False\n",
    "'''  levels of verbosity in this script:\n",
    "    - >= 1.0: print best params, their achieved fidelity,\n",
    "              and the scoring method used to compute such performance\n",
    "    - >= 2.0: print final tree idx cluster sizes\n",
    "              and store txt files with the extracted rule-paths\n",
    "    - >= 3.0: plot representation of the extracted trees (two plots)\n",
    "    - >= 4.0: plot trees with GUI (if PLOT_GUI == True)\n",
    "    - >= 4.0: plot trees without GUI (if PLOT_GUI == False)\n",
    "    - >= 5.0: print params and performance during GridSearch\n",
    "'''\n",
    "\n",
    "# running different RFs or different performance measures according to the \n",
    "# prediction scenarios. So far we have implemented the following 5 cases:\n",
    "binary_key_list = [\"bin\", \"binary\"]\n",
    "survival_key_list = [\"surv\", \"survival\"]\n",
    "multi_label_key_list = [\"multi\", \"multi-l\", \"multi-label\", \"mtc\"]\n",
    "regression_key_list = [\"regression\", \"regress\", \"regr\"]\n",
    "mt_regression_key_list = [\"multi-target\", \"multi-t\", \"mtr\"]"
   ]
  },
  {
   "attachments": {},
   "cell_type": "markdown",
   "metadata": {},
   "source": [
    "## Step 2: Load and preprocess Data\n",
    "\n",
    "Load training and testing data from the `.csv` files, split them into features (X) and targets (y), and preprocess the data by formatting the target variables according to the prediction scenarios. Instantiate the appropriate `RandomForest` model."
   ]
  },
  {
   "cell_type": "code",
   "execution_count": 97,
   "metadata": {},
   "outputs": [],
   "source": [
    "from code_scripts.utilities import output_X_y\n",
    "\n",
    "df_train = pd.read_csv(os.path.join(data_folder, SETUP + '_tutorial_train.csv'))\n",
    "df_test = pd.read_csv(os.path.join(data_folder, SETUP + '_tutorial_test.csv'))\n",
    "\n",
    "X_train, y_train = output_X_y(df_train, SETUP)\n",
    "X_test, y_test = output_X_y(df_test, SETUP)\n",
    "\n",
    "X_train = X_train.drop(\"Unnamed: 0\", axis=1, errors=\"ignore\", inplace=False)\n",
    "X_test = X_test.drop(\"Unnamed: 0\", axis=1, errors=\"ignore\", inplace=False)\n",
    "\n",
    "assert X_train.isnull().sum().sum() < 1 #make sure there are no null values\n",
    "assert X_test.isnull().sum().sum() < 1 #make sure there are no null values\n",
    "\n",
    "# for quick testing, set a small MAX_TEST_SIZE\n",
    "X_test = X_test[:MAX_TEST_SIZE]\n",
    "y_test = y_test[:MAX_TEST_SIZE]\n",
    "\n",
    "orig_n_labels = y_test.shape[1] #meaningful only in multi-output"
   ]
  },
  {
   "cell_type": "code",
   "execution_count": 98,
   "metadata": {},
   "outputs": [
    {
     "name": "stdout",
     "output_type": "stream",
     "text": [
      "orig. n* labels: 3\n",
      "new n* labels: 3\n"
     ]
    },
    {
     "data": {
      "text/html": [
       "<style>#sk-container-id-6 {color: black;background-color: white;}#sk-container-id-6 pre{padding: 0;}#sk-container-id-6 div.sk-toggleable {background-color: white;}#sk-container-id-6 label.sk-toggleable__label {cursor: pointer;display: block;width: 100%;margin-bottom: 0;padding: 0.3em;box-sizing: border-box;text-align: center;}#sk-container-id-6 label.sk-toggleable__label-arrow:before {content: \"▸\";float: left;margin-right: 0.25em;color: #696969;}#sk-container-id-6 label.sk-toggleable__label-arrow:hover:before {color: black;}#sk-container-id-6 div.sk-estimator:hover label.sk-toggleable__label-arrow:before {color: black;}#sk-container-id-6 div.sk-toggleable__content {max-height: 0;max-width: 0;overflow: hidden;text-align: left;background-color: #f0f8ff;}#sk-container-id-6 div.sk-toggleable__content pre {margin: 0.2em;color: black;border-radius: 0.25em;background-color: #f0f8ff;}#sk-container-id-6 input.sk-toggleable__control:checked~div.sk-toggleable__content {max-height: 200px;max-width: 100%;overflow: auto;}#sk-container-id-6 input.sk-toggleable__control:checked~label.sk-toggleable__label-arrow:before {content: \"▾\";}#sk-container-id-6 div.sk-estimator input.sk-toggleable__control:checked~label.sk-toggleable__label {background-color: #d4ebff;}#sk-container-id-6 div.sk-label input.sk-toggleable__control:checked~label.sk-toggleable__label {background-color: #d4ebff;}#sk-container-id-6 input.sk-hidden--visually {border: 0;clip: rect(1px 1px 1px 1px);clip: rect(1px, 1px, 1px, 1px);height: 1px;margin: -1px;overflow: hidden;padding: 0;position: absolute;width: 1px;}#sk-container-id-6 div.sk-estimator {font-family: monospace;background-color: #f0f8ff;border: 1px dotted black;border-radius: 0.25em;box-sizing: border-box;margin-bottom: 0.5em;}#sk-container-id-6 div.sk-estimator:hover {background-color: #d4ebff;}#sk-container-id-6 div.sk-parallel-item::after {content: \"\";width: 100%;border-bottom: 1px solid gray;flex-grow: 1;}#sk-container-id-6 div.sk-label:hover label.sk-toggleable__label {background-color: #d4ebff;}#sk-container-id-6 div.sk-serial::before {content: \"\";position: absolute;border-left: 1px solid gray;box-sizing: border-box;top: 0;bottom: 0;left: 50%;z-index: 0;}#sk-container-id-6 div.sk-serial {display: flex;flex-direction: column;align-items: center;background-color: white;padding-right: 0.2em;padding-left: 0.2em;position: relative;}#sk-container-id-6 div.sk-item {position: relative;z-index: 1;}#sk-container-id-6 div.sk-parallel {display: flex;align-items: stretch;justify-content: center;background-color: white;position: relative;}#sk-container-id-6 div.sk-item::before, #sk-container-id-6 div.sk-parallel-item::before {content: \"\";position: absolute;border-left: 1px solid gray;box-sizing: border-box;top: 0;bottom: 0;left: 50%;z-index: -1;}#sk-container-id-6 div.sk-parallel-item {display: flex;flex-direction: column;z-index: 1;position: relative;background-color: white;}#sk-container-id-6 div.sk-parallel-item:first-child::after {align-self: flex-end;width: 50%;}#sk-container-id-6 div.sk-parallel-item:last-child::after {align-self: flex-start;width: 50%;}#sk-container-id-6 div.sk-parallel-item:only-child::after {width: 0;}#sk-container-id-6 div.sk-dashed-wrapped {border: 1px dashed gray;margin: 0 0.4em 0.5em 0.4em;box-sizing: border-box;padding-bottom: 0.4em;background-color: white;}#sk-container-id-6 div.sk-label label {font-family: monospace;font-weight: bold;display: inline-block;line-height: 1.2em;}#sk-container-id-6 div.sk-label-container {text-align: center;}#sk-container-id-6 div.sk-container {/* jupyter's `normalize.less` sets `[hidden] { display: none; }` but bootstrap.min.css set `[hidden] { display: none !important; }` so we also need the `!important` here to be able to override the default hidden behavior on the sphinx rendered scikit-learn.org. See: https://github.com/scikit-learn/scikit-learn/issues/21755 */display: inline-block !important;position: relative;}#sk-container-id-6 div.sk-text-repr-fallback {display: none;}</style><div id=\"sk-container-id-6\" class=\"sk-top-container\"><div class=\"sk-text-repr-fallback\"><pre>RandomForestRegressor(min_samples_split=5, random_state=0)</pre><b>In a Jupyter environment, please rerun this cell to show the HTML representation or trust the notebook. <br />On GitHub, the HTML representation is unable to render, please try loading this page with nbviewer.org.</b></div><div class=\"sk-container\" hidden><div class=\"sk-item\"><div class=\"sk-estimator sk-toggleable\"><input class=\"sk-toggleable__control sk-hidden--visually\" id=\"sk-estimator-id-6\" type=\"checkbox\" checked><label for=\"sk-estimator-id-6\" class=\"sk-toggleable__label sk-toggleable__label-arrow\">RandomForestRegressor</label><div class=\"sk-toggleable__content\"><pre>RandomForestRegressor(min_samples_split=5, random_state=0)</pre></div></div></div></div></div>"
      ],
      "text/plain": [
       "RandomForestRegressor(min_samples_split=5, random_state=0)"
      ]
     },
     "execution_count": 98,
     "metadata": {},
     "output_type": "execute_result"
    }
   ],
   "source": [
    "from code_scripts.utilities import format_targets\n",
    "\n",
    "from sksurv.ensemble import RandomSurvivalForest\n",
    "from sklearn.ensemble import RandomForestClassifier\n",
    "from sklearn.ensemble import RandomForestRegressor\n",
    "\n",
    "y_train, y_test = format_targets(y_train, y_test, SETUP, VERBOSE)\n",
    "\n",
    "### instantiate original R(S)F estimator\n",
    "if SETUP.lower() in survival_key_list:\n",
    "    clf = RandomSurvivalForest(n_estimators=100, min_samples_split=10,\n",
    "                              random_state=0)\n",
    "\n",
    "elif SETUP.lower() in binary_key_list + multi_label_key_list:\n",
    "    clf = RandomForestClassifier(n_estimators=100, min_samples_split=5,\n",
    "                                random_state=0)\n",
    "    \n",
    "elif SETUP.lower() in regression_key_list + mt_regression_key_list:\n",
    "    clf = RandomForestRegressor(n_estimators=100, min_samples_split=5,\n",
    "                               random_state=0)\n",
    "\n",
    "clf.fit(X_train, y_train)\n"
   ]
  },
  {
   "attachments": {},
   "cell_type": "markdown",
   "metadata": {},
   "source": [
    "## Step 3: Instantiate and fit the Model\n",
    "\n",
    "Once the Random Forest is instantiated, the `fit` method in Bellatrex trains the Random Forest and set the parameters for Bellatrex.\n"
   ]
  },
  {
   "cell_type": "code",
   "execution_count": 99,
   "metadata": {},
   "outputs": [
    {
     "name": "stdout",
     "output_type": "stream",
     "text": [
      "Model is already fitted, building explanation.\n"
     ]
    }
   ],
   "source": [
    "from code_scripts.LocalMethod_class import Bellatrex\n",
    "\n",
    "# fit RF here. The hyperparameters are given      \n",
    "Bellatrex_fitted = Bellatrex(clf, SETUP,\n",
    "                            p_grid=p_grid,\n",
    "                            proj_method=\"PCA\",\n",
    "                            dissim_method=\"rules\",\n",
    "                            feature_represent=\"weighted\",\n",
    "                            n_jobs=1,\n",
    "                            verbose=1,\n",
    "                            colormap= 'RdYlBu_r',\n",
    "                            plot_GUI=PLOT_GUI).fit(X_train, y_train)\n"
   ]
  },
  {
   "cell_type": "markdown",
   "metadata": {},
   "source": [
    "Storing train data predictions, useful for plotting the output distribution and compare the test data prediction to it.\n",
    "NOTE that for this example we are storing the .npy array with a generic name of the form SETUP + '_tutorial_y_train_preds.npy'\n",
    "You might want to name according to the dataset and fold under consideration"
   ]
  },
  {
   "cell_type": "code",
   "execution_count": 100,
   "metadata": {},
   "outputs": [
    {
     "name": "stdout",
     "output_type": "stream",
     "text": [
      "(1037, 3)\n"
     ]
    }
   ],
   "source": [
    "y_train_pred = predict_helper(Bellatrex_fitted.clf, X_train)\n",
    "np.save(os.path.join(os.path.join(data_folder, SETUP + '_tutorial_y_train_preds.npy')), y_train_pred)"
   ]
  },
  {
   "attachments": {},
   "cell_type": "markdown",
   "metadata": {},
   "source": [
    "\n",
    "## Step 4: Make predictions, output explanations\n",
    "\n",
    "Loop through the test set, make predictions using the Bellatrex local method, and store the results."
   ]
  },
  {
   "cell_type": "code",
   "execution_count": 38,
   "metadata": {},
   "outputs": [
    {
     "name": "stdout",
     "output_type": "stream",
     "text": [
      "best params: {'n_clusters': 3, 'n_dims': 2, 'n_trees': 100}\n",
      "Achieved fidelity: 0.9253\n",
      "(Tuned according to L2)\n",
      "Bellatrex prediction: 0.470\n",
      "Black box prediction: 0.545\n",
      "######################################################\n",
      "best params: {'n_clusters': 1, 'n_dims': 2, 'n_trees': 60}\n",
      "Achieved fidelity: 0.8660\n",
      "(Tuned according to L2)\n",
      "Bellatrex prediction: 0.000\n",
      "Black box prediction: 0.134\n",
      "######################################################\n",
      "best params: {'n_clusters': 1, 'n_dims': 2, 'n_trees': 60}\n",
      "Achieved fidelity: 0.9925\n",
      "(Tuned according to L2)\n",
      "Bellatrex prediction: 0.000\n",
      "Black box prediction: 0.007\n",
      "######################################################\n",
      "best params: {'n_clusters': 2, 'n_dims': 2, 'n_trees': 80}\n",
      "Achieved fidelity: 0.9968\n",
      "(Tuned according to L2)\n",
      "Bellatrex prediction: 0.081\n",
      "Black box prediction: 0.084\n",
      "######################################################\n",
      "best params: {'n_clusters': 1, 'n_dims': 2, 'n_trees': 60}\n",
      "Achieved fidelity: 1.0000\n",
      "(Tuned according to L2)\n",
      "Bellatrex prediction: 0.000\n",
      "Black box prediction: 0.000\n",
      "######################################################\n",
      "best params: {'n_clusters': 3, 'n_dims': 5, 'n_trees': 80}\n",
      "Achieved fidelity: 0.9987\n",
      "(Tuned according to L2)\n",
      "Bellatrex prediction: 0.170\n",
      "Black box prediction: 0.169\n",
      "######################################################\n",
      "best params: {'n_clusters': 2, 'n_dims': 2, 'n_trees': 80}\n",
      "Achieved fidelity: 0.9371\n",
      "(Tuned according to L2)\n",
      "Bellatrex prediction: 0.125\n",
      "Black box prediction: 0.188\n",
      "######################################################\n",
      "best params: {'n_clusters': 2, 'n_dims': 2, 'n_trees': 80}\n",
      "Achieved fidelity: 0.9968\n",
      "(Tuned according to L2)\n",
      "Bellatrex prediction: 0.081\n",
      "Black box prediction: 0.084\n",
      "######################################################\n",
      "best params: {'n_clusters': 1, 'n_dims': 2, 'n_trees': 60}\n",
      "Achieved fidelity: 1.0000\n",
      "(Tuned according to L2)\n",
      "Bellatrex prediction: 0.000\n",
      "Black box prediction: 0.000\n",
      "######################################################\n",
      "best params: {'n_clusters': 1, 'n_dims': 2, 'n_trees': 60}\n",
      "Achieved fidelity: 0.9207\n",
      "(Tuned according to L2)\n",
      "Bellatrex prediction: 0.167\n",
      "Black box prediction: 0.087\n",
      "######################################################\n",
      "best params: {'n_clusters': 3, 'n_dims': 5, 'n_trees': 100}\n",
      "Achieved fidelity: 0.9957\n",
      "(Tuned according to L2)\n",
      "Bellatrex prediction: 0.048\n",
      "Black box prediction: 0.044\n",
      "######################################################\n",
      "best params: {'n_clusters': 2, 'n_dims': 2, 'n_trees': 60}\n",
      "Achieved fidelity: 0.8904\n",
      "(Tuned according to L2)\n",
      "Bellatrex prediction: 0.096\n",
      "Black box prediction: 0.205\n",
      "######################################################\n",
      "best params: {'n_clusters': 1, 'n_dims': 2, 'n_trees': 60}\n",
      "Achieved fidelity: 0.9632\n",
      "(Tuned according to L2)\n",
      "Bellatrex prediction: 0.000\n",
      "Black box prediction: 0.037\n",
      "######################################################\n",
      "best params: {'n_clusters': 1, 'n_dims': 2, 'n_trees': 60}\n",
      "Achieved fidelity: 0.9595\n",
      "(Tuned according to L2)\n",
      "Bellatrex prediction: 0.000\n",
      "Black box prediction: 0.041\n",
      "######################################################\n",
      "best params: {'n_clusters': 2, 'n_dims': 5, 'n_trees': 100}\n",
      "Achieved fidelity: 0.9646\n",
      "(Tuned according to L2)\n",
      "Bellatrex prediction: 0.167\n",
      "Black box prediction: 0.202\n",
      "######################################################\n",
      "best params: {'n_clusters': 3, 'n_dims': 5, 'n_trees': 60}\n",
      "Achieved fidelity: 0.9955\n",
      "(Tuned according to L2)\n",
      "Bellatrex prediction: 0.272\n",
      "Black box prediction: 0.276\n",
      "######################################################\n",
      "best params: {'n_clusters': 1, 'n_dims': 2, 'n_trees': 60}\n",
      "Achieved fidelity: 0.8867\n",
      "(Tuned according to L2)\n",
      "Bellatrex prediction: 0.000\n",
      "Black box prediction: 0.113\n",
      "######################################################\n",
      "best params: {'n_clusters': 2, 'n_dims': 5, 'n_trees': 100}\n",
      "Achieved fidelity: 0.9998\n",
      "(Tuned according to L2)\n",
      "Bellatrex prediction: 0.117\n",
      "Black box prediction: 0.116\n",
      "######################################################\n",
      "best params: {'n_clusters': 3, 'n_dims': 5, 'n_trees': 60}\n",
      "Achieved fidelity: 0.9860\n",
      "(Tuned according to L2)\n",
      "Bellatrex prediction: 0.206\n",
      "Black box prediction: 0.220\n",
      "######################################################\n",
      "best params: {'n_clusters': 1, 'n_dims': 2, 'n_trees': 60}\n",
      "Achieved fidelity: 0.9683\n",
      "(Tuned according to L2)\n",
      "Bellatrex prediction: 0.000\n",
      "Black box prediction: 0.032\n",
      "######################################################\n"
     ]
    }
   ],
   "source": [
    "from code_scripts.utilities import score_method\n",
    "# store, for every sample in the test set, the predictions from BELLATREX and the original R(S)F for comparison\n",
    "N = min(X_test.shape[0], MAX_TEST_SIZE)        \n",
    "\n",
    "# store final Bellatrex predictions here.\n",
    "# y_pred will be a (n_samples, n_outputs_) ndarray, or (n_samples,) for single output\n",
    "y_pred = np.empty((0, 0))\n",
    "# we harmonise everything with the predict_helper and concatenate_helper functions                \n",
    "from code_scripts.utilities import predict_helper, concatenate_helper\n",
    "y_ens_pred = predict_helper(clf, X_test)\n",
    "\n",
    "for i in range(N): #for every sample in the test set: call the .explain method. \n",
    "    # The hyperparameters were given in the .fit. and are actively used and tuned for every instance\n",
    "    '''\n",
    "    the .explain outputs:\n",
    "        - the local prediction \n",
    "        - information about the Bellatrex instance: optimal parameters,\n",
    "                    final extracted trees/rules, their weight in the prediction, etc... \n",
    "    \n",
    "    '''\n",
    "    FILE_OUT = None\n",
    "    # uncomment the next 3 lines to store the explanations as .txt files :\n",
    "    # FILENAME_OUT = \"Rules_\"+str(folder)+\"_f\"+str(j)+'_id'+str(i)+'.txt'\n",
    "    # os.path.join(root_folder, 'example-explanations',\n",
    "    #                                 Btrex_fitted.set_up, FILENAME_OUT)\n",
    "\n",
    "    y_local_pred, sample_info = Bellatrex_fitted.explain(X_test, i, FILE_OUT) # tuning is also done within the .explain method\n",
    "    \n",
    "    # append all test sample predictions in y_pred\n",
    "    y_pred = concatenate_helper(y_pred, y_local_pred, axis=0)\n"
   ]
  },
  {
   "cell_type": "markdown",
   "metadata": {},
   "source": [
    "Predictions form Bellatrex and the corresponding black-box model are stored. here we compare the performance on (a small subset of) the test set."
   ]
  },
  {
   "cell_type": "code",
   "execution_count": 32,
   "metadata": {},
   "outputs": [
    {
     "name": "stdout",
     "output_type": "stream",
     "text": [
      "Bellatrex performance: AUROC: 0.6328\n",
      "Black-box performance: AUROC: 0.7344\n"
     ]
    }
   ],
   "source": [
    "#quick testing with few samples (less than 100)\n",
    "y_test = y_test[:N]\n",
    "y_ens_pred = y_ens_pred[:N]\n",
    "\n",
    "for key, value in score_method(y_test, y_pred, SETUP).items():\n",
    "    print(f'Bellatrex performance: {key}: {value:.4f}')\n",
    "\n",
    "for key, value in score_method(y_test, y_ens_pred, SETUP).items():\n",
    "    print(f'Black-box performance: {key}: {value:.4f}')"
   ]
  },
  {
   "cell_type": "code",
   "execution_count": 33,
   "metadata": {},
   "outputs": [
    {
     "name": "stdout",
     "output_type": "stream",
     "text": [
      "[0.5446627  0.13403571 0.0075     0.08445362 0.         0.16896032\n",
      " 0.18791667 0.08445362 0.         0.08733333 0.044      0.20542857\n",
      " 0.03683333 0.04052381 0.20207143 0.27615526 0.11330952 0.11646429\n",
      " 0.22027778 0.03166667]\n",
      "[0.47       0.         0.         0.08125    0.         0.17022536\n",
      " 0.125      0.08125    0.         0.16666667 0.04833333 0.09583333\n",
      " 0.         0.         0.16666667 0.27166667 0.         0.11666667\n",
      " 0.20625    0.        ]\n"
     ]
    }
   ],
   "source": [
    "print(y_ens_pred)\n",
    "print(y_pred)"
   ]
  },
  {
   "cell_type": "code",
   "execution_count": null,
   "metadata": {},
   "outputs": [],
   "source": []
  }
 ],
 "metadata": {
  "kernelspec": {
   "display_name": "btrex",
   "language": "python",
   "name": "python3"
  },
  "language_info": {
   "codemirror_mode": {
    "name": "ipython",
    "version": 3
   },
   "file_extension": ".py",
   "mimetype": "text/x-python",
   "name": "python",
   "nbconvert_exporter": "python",
   "pygments_lexer": "ipython3",
   "version": "3.9.12"
  },
  "orig_nbformat": 4
 },
 "nbformat": 4,
 "nbformat_minor": 2
}
