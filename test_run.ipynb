{
 "cells": [
  {
   "cell_type": "code",
   "execution_count": 2,
   "metadata": {},
   "outputs": [
    {
     "name": "stdout",
     "output_type": "stream",
     "text": [
      "0.1.4\n",
      "c:\\Users\\u0135479\\Documents\\GitHub\\Bellatrex_pip\n"
     ]
    }
   ],
   "source": [
    "import numpy as np\n",
    "import pandas as pd\n",
    "import os\n",
    "import warnings\n",
    "import bellatrex as btrex\n",
    "print(btrex.__version__)\n",
    "# reduce MAX_TEST_SAMPLES for quick code testing\n",
    "MAX_TEST_SAMPLES = 2\n",
    "\n",
    "PLOT_GUI = False\n",
    "'''  levels of verbosity in this script:\n",
    "    - >= 0.0: sample i and fold j print, ensemble and local score.\n",
    "    - >= 1.0: print best params, their achieved fidelity,\n",
    "              and the scoring method used to compute such performance\n",
    "    - >= 2.0 print final tree idx cluster sizes\n",
    "    - >= 3.0: plot representation of the extracted trees (two plots)\n",
    "    - >= 4.0 plot trees with GUI (if PLOT_GUI == True)\n",
    "    - >= 4.0 plot trees without GUI (if PLOT_GUI == False)\n",
    "    - >= 5.0: print params and performance during GridSearch\n",
    "'''\n",
    "\n",
    "##########################################################################\n",
    "root_folder = os.getcwd()\n",
    "print(root_folder)"
   ]
  },
  {
   "cell_type": "code",
   "execution_count": 3,
   "metadata": {},
   "outputs": [
    {
     "name": "stdout",
     "output_type": "stream",
     "text": [
      "Detected prediction task 'SETUP': multi-label\n"
     ]
    }
   ],
   "source": [
    "from bellatrex.datasets import load_mtr_data, load_mlc_data\n",
    "from bellatrex.datasets import load_survival_data, load_binary_data, load_regression_data\n",
    "\n",
    "X, y = load_binary_data(return_X_y=True)\n",
    "X, y = load_regression_data(return_X_y=True)\n",
    "X, y = load_survival_data(return_X_y=True)\n",
    "X, y = load_mlc_data(return_X_y=True)\n",
    "# X, y = load_mtr_data(return_X_y=True)\n",
    "# X, y = X[::2], y[::2]\n",
    "\n",
    "from sklearn.model_selection import train_test_split\n",
    "X_train, X_test, y_train, y_test = train_test_split(X, y, test_size=0.3, random_state=0)\n",
    "\n",
    "from bellatrex.utilities import get_auto_setup\n",
    "SETUP = get_auto_setup(y)\n",
    "print('Detected prediction task \\'SETUP\\':', SETUP)"
   ]
  },
  {
   "cell_type": "code",
   "execution_count": 6,
   "metadata": {},
   "outputs": [
    {
     "name": "stdout",
     "output_type": "stream",
     "text": [
      "['__abstractmethods__', '__annotations__', '__class__', '__delattr__', '__dict__', '__dir__', '__doc__', '__eq__', '__format__', '__ge__', '__getattribute__', '__getitem__', '__getstate__', '__gt__', '__hash__', '__init__', '__init_subclass__', '__iter__', '__le__', '__len__', '__lt__', '__module__', '__ne__', '__new__', '__reduce__', '__reduce_ex__', '__repr__', '__setattr__', '__setstate__', '__sizeof__', '__sklearn_clone__', '__str__', '__subclasshook__', '__weakref__', '_abc_impl', '_build_request_for_signature', '_check_feature_names', '_check_n_features', '_compute_oob_predictions', '_estimator_type', '_get_default_requests', '_get_metadata_request', '_get_oob_predictions', '_get_param_names', '_get_tags', '_make_estimator', '_more_tags', '_parameter_constraints', '_repr_html_', '_repr_html_inner', '_repr_mimebundle_', '_required_parameters', '_set_oob_score_and_attributes', '_validate_X_predict', '_validate_data', '_validate_estimator', '_validate_params', '_validate_y_class_weight', 'apply', 'base_estimator', 'base_estimator_', 'bootstrap', 'ccp_alpha', 'class_weight', 'classes_', 'criterion', 'decision_path', 'estimator', 'estimator_', 'estimator_params', 'estimators_', 'feature_importances_', 'feature_names_in_', 'fit', 'get_metadata_routing', 'get_params', 'max_depth', 'max_features', 'max_leaf_nodes', 'max_samples', 'min_impurity_decrease', 'min_samples_leaf', 'min_samples_split', 'min_weight_fraction_leaf', 'n_classes_', 'n_estimators', 'n_features_in_', 'n_jobs', 'n_outputs_', 'oob_score', 'predict', 'predict_log_proba', 'predict_proba', 'random_state', 'score', 'set_fit_request', 'set_params', 'set_score_request', 'verbose', 'warm_start']\n"
     ]
    }
   ],
   "source": [
    "from sksurv.ensemble import RandomSurvivalForest\n",
    "from sklearn.ensemble import RandomForestClassifier\n",
    "from sklearn.ensemble import RandomForestRegressor\n",
    "\n",
    "### instantiate original R(S)F estimator, works best with some pruning. \n",
    "if SETUP.lower() in 'survival':\n",
    "    clf = RandomSurvivalForest(n_estimators=100, min_samples_split=10,\n",
    "                                n_jobs=-2, random_state=0)\n",
    "\n",
    "elif SETUP.lower() in ['binary', 'multi-label']:\n",
    "    clf = RandomForestClassifier(n_estimators=100, min_samples_split=5,\n",
    "                                n_jobs=-2, random_state=0)\n",
    "    \n",
    "elif SETUP.lower() in ['regression', 'multi-target']:\n",
    "    clf = RandomForestRegressor(n_estimators=100, min_samples_split=5,\n",
    "                                n_jobs=-2, random_state=0)\n",
    "\n",
    "\n",
    "from bellatrex import BellatrexExplain\n",
    "from bellatrex.wrapper_class import EnsembleWrapper, tree_list_to_model, DT_to_dict\n",
    "\n",
    "clf.fit(X_train, y_train)\n"
   ]
  },
  {
   "cell_type": "code",
   "execution_count": 10,
   "metadata": {},
   "outputs": [],
   "source": [
    "# dictionary testing for BELLATREX here\n",
    "tree_list = []\n",
    "    \n",
    "for t in range(clf.n_estimators):\n",
    "        \n",
    "    tree_dict = DT_to_dict(clf, t, 'auto',\n",
    "                                T_to_bin=None)\n",
    "    tree_list.append(tree_dict)\n",
    "        \n",
    "clf1 = tree_list_to_model(tree_list) #normally, you load the dict in this format\n",
    "# adapt the dict into smth compatible with Bellatrex\n",
    "clf2 = EnsembleWrapper(clf1)\n"
   ]
  },
  {
   "cell_type": "code",
   "execution_count": 11,
   "metadata": {},
   "outputs": [
    {
     "name": "stdout",
     "output_type": "stream",
     "text": [
      "Model is already fitted, building explanation.\n",
      "oracle_sample is: None\n",
      "Automatically setting prediction task to:  multi-label\n",
      "Explaining sample i=0\n",
      "<bellatrex.TreeExtraction_class.TreeExtraction object at 0x000001D70BBA83D0>\n",
      "<class 'bellatrex.TreeExtraction_class.TreeExtraction'> dir: ['BINARY_KEYS', 'MSA_KEYS', 'MTC_KEYS', 'MTR_KEYS', 'RAND_SEED', 'REGRESSION_KEYS', 'SURVIVAL_KEYS', '__class__', '__delattr__', '__dict__', '__dir__', '__doc__', '__eq__', '__format__', '__ge__', '__getattribute__', '__gt__', '__hash__', '__init__', '__init_subclass__', '__le__', '__lt__', '__module__', '__ne__', '__new__', '__reduce__', '__reduce_ex__', '__repr__', '__setattr__', '__sizeof__', '__str__', '__subclasshook__', '__weakref__', 'calcul_tree_proximity_loss', 'clf', 'cluster_sizes', 'dim_reduction', 'dissim_method', 'extract_final_trees', 'feature_represent', 'fidelity_measure', 'final_trees_idx', 'get_params', 'jaccard_pair_distance', 'local_prediction', 'main_fit', 'n_clusters', 'n_dims', 'n_trees', 'oracle_prediction', 'oracle_sample', 'output_explain', 'pre_select_loss', 'pre_selection_trees', 'preselect_represent_cluster_trees', 'print_rules', 'proj_method', 'sample', 'score', 'set_params', 'set_up', 'tranform_to_symm_matrix', 'tree_prediction', 'verbose']\n",
      "n dims: 2 n clusts: 1 n trees 60\n",
      "<bellatrex.TreeExtraction_class.TreeExtraction object at 0x000001D70BBA83D0>\n",
      "<class 'bellatrex.TreeExtraction_class.TreeExtraction'> dir: ['BINARY_KEYS', 'MSA_KEYS', 'MTC_KEYS', 'MTR_KEYS', 'RAND_SEED', 'REGRESSION_KEYS', 'SURVIVAL_KEYS', '__class__', '__delattr__', '__dict__', '__dir__', '__doc__', '__eq__', '__format__', '__ge__', '__getattribute__', '__gt__', '__hash__', '__init__', '__init_subclass__', '__le__', '__lt__', '__module__', '__ne__', '__new__', '__reduce__', '__reduce_ex__', '__repr__', '__setattr__', '__sizeof__', '__str__', '__subclasshook__', '__weakref__', 'calcul_tree_proximity_loss', 'clf', 'cluster_sizes', 'dim_reduction', 'dissim_method', 'extract_final_trees', 'feature_represent', 'fidelity_measure', 'final_trees_idx', 'get_params', 'jaccard_pair_distance', 'local_prediction', 'main_fit', 'n_clusters', 'n_dims', 'n_trees', 'oracle_prediction', 'oracle_sample', 'output_explain', 'pre_select_loss', 'pre_selection_trees', 'preselect_represent_cluster_trees', 'print_rules', 'proj_method', 'sample', 'score', 'set_params', 'set_up', 'tranform_to_symm_matrix', 'tree_prediction', 'verbose']\n",
      "n dims: 2 n clusts: 1 n trees 80\n",
      "<bellatrex.TreeExtraction_class.TreeExtraction object at 0x000001D70BBA83D0>\n",
      "<class 'bellatrex.TreeExtraction_class.TreeExtraction'> dir: ['BINARY_KEYS', 'MSA_KEYS', 'MTC_KEYS', 'MTR_KEYS', 'RAND_SEED', 'REGRESSION_KEYS', 'SURVIVAL_KEYS', '__class__', '__delattr__', '__dict__', '__dir__', '__doc__', '__eq__', '__format__', '__ge__', '__getattribute__', '__gt__', '__hash__', '__init__', '__init_subclass__', '__le__', '__lt__', '__module__', '__ne__', '__new__', '__reduce__', '__reduce_ex__', '__repr__', '__setattr__', '__sizeof__', '__str__', '__subclasshook__', '__weakref__', 'calcul_tree_proximity_loss', 'clf', 'cluster_sizes', 'dim_reduction', 'dissim_method', 'extract_final_trees', 'feature_represent', 'fidelity_measure', 'final_trees_idx', 'get_params', 'jaccard_pair_distance', 'local_prediction', 'main_fit', 'n_clusters', 'n_dims', 'n_trees', 'oracle_prediction', 'oracle_sample', 'output_explain', 'pre_select_loss', 'pre_selection_trees', 'preselect_represent_cluster_trees', 'print_rules', 'proj_method', 'sample', 'score', 'set_params', 'set_up', 'tranform_to_symm_matrix', 'tree_prediction', 'verbose']\n",
      "n dims: 2 n clusts: 1 n trees 100\n",
      "<bellatrex.TreeExtraction_class.TreeExtraction object at 0x000001D70BBA83D0>\n",
      "<class 'bellatrex.TreeExtraction_class.TreeExtraction'> dir: ['BINARY_KEYS', 'MSA_KEYS', 'MTC_KEYS', 'MTR_KEYS', 'RAND_SEED', 'REGRESSION_KEYS', 'SURVIVAL_KEYS', '__class__', '__delattr__', '__dict__', '__dir__', '__doc__', '__eq__', '__format__', '__ge__', '__getattribute__', '__gt__', '__hash__', '__init__', '__init_subclass__', '__le__', '__lt__', '__module__', '__ne__', '__new__', '__reduce__', '__reduce_ex__', '__repr__', '__setattr__', '__sizeof__', '__str__', '__subclasshook__', '__weakref__', 'calcul_tree_proximity_loss', 'clf', 'cluster_sizes', 'dim_reduction', 'dissim_method', 'extract_final_trees', 'feature_represent', 'fidelity_measure', 'final_trees_idx', 'get_params', 'jaccard_pair_distance', 'local_prediction', 'main_fit', 'n_clusters', 'n_dims', 'n_trees', 'oracle_prediction', 'oracle_sample', 'output_explain', 'pre_select_loss', 'pre_selection_trees', 'preselect_represent_cluster_trees', 'print_rules', 'proj_method', 'sample', 'score', 'set_params', 'set_up', 'tranform_to_symm_matrix', 'tree_prediction', 'verbose']\n",
      "n dims: None n clusts: 1 n trees 60\n",
      "<bellatrex.TreeExtraction_class.TreeExtraction object at 0x000001D70BBA83D0>\n",
      "<class 'bellatrex.TreeExtraction_class.TreeExtraction'> dir: ['BINARY_KEYS', 'MSA_KEYS', 'MTC_KEYS', 'MTR_KEYS', 'RAND_SEED', 'REGRESSION_KEYS', 'SURVIVAL_KEYS', '__class__', '__delattr__', '__dict__', '__dir__', '__doc__', '__eq__', '__format__', '__ge__', '__getattribute__', '__gt__', '__hash__', '__init__', '__init_subclass__', '__le__', '__lt__', '__module__', '__ne__', '__new__', '__reduce__', '__reduce_ex__', '__repr__', '__setattr__', '__sizeof__', '__str__', '__subclasshook__', '__weakref__', 'calcul_tree_proximity_loss', 'clf', 'cluster_sizes', 'dim_reduction', 'dissim_method', 'extract_final_trees', 'feature_represent', 'fidelity_measure', 'final_trees_idx', 'get_params', 'jaccard_pair_distance', 'local_prediction', 'main_fit', 'n_clusters', 'n_dims', 'n_trees', 'oracle_prediction', 'oracle_sample', 'output_explain', 'pre_select_loss', 'pre_selection_trees', 'preselect_represent_cluster_trees', 'print_rules', 'proj_method', 'sample', 'score', 'set_params', 'set_up', 'tranform_to_symm_matrix', 'tree_prediction', 'verbose']\n",
      "n dims: None n clusts: 1 n trees 80\n",
      "<bellatrex.TreeExtraction_class.TreeExtraction object at 0x000001D70BBA83D0>\n",
      "<class 'bellatrex.TreeExtraction_class.TreeExtraction'> dir: ['BINARY_KEYS', 'MSA_KEYS', 'MTC_KEYS', 'MTR_KEYS', 'RAND_SEED', 'REGRESSION_KEYS', 'SURVIVAL_KEYS', '__class__', '__delattr__', '__dict__', '__dir__', '__doc__', '__eq__', '__format__', '__ge__', '__getattribute__', '__gt__', '__hash__', '__init__', '__init_subclass__', '__le__', '__lt__', '__module__', '__ne__', '__new__', '__reduce__', '__reduce_ex__', '__repr__', '__setattr__', '__sizeof__', '__str__', '__subclasshook__', '__weakref__', 'calcul_tree_proximity_loss', 'clf', 'cluster_sizes', 'dim_reduction', 'dissim_method', 'extract_final_trees', 'feature_represent', 'fidelity_measure', 'final_trees_idx', 'get_params', 'jaccard_pair_distance', 'local_prediction', 'main_fit', 'n_clusters', 'n_dims', 'n_trees', 'oracle_prediction', 'oracle_sample', 'output_explain', 'pre_select_loss', 'pre_selection_trees', 'preselect_represent_cluster_trees', 'print_rules', 'proj_method', 'sample', 'score', 'set_params', 'set_up', 'tranform_to_symm_matrix', 'tree_prediction', 'verbose']\n",
      "n dims: None n clusts: 1 n trees 100\n",
      "<bellatrex.TreeExtraction_class.TreeExtraction object at 0x000001D70BBA83D0>\n",
      "<class 'bellatrex.TreeExtraction_class.TreeExtraction'> dir: ['BINARY_KEYS', 'MSA_KEYS', 'MTC_KEYS', 'MTR_KEYS', 'RAND_SEED', 'REGRESSION_KEYS', 'SURVIVAL_KEYS', '__class__', '__delattr__', '__dict__', '__dir__', '__doc__', '__eq__', '__format__', '__ge__', '__getattribute__', '__gt__', '__hash__', '__init__', '__init_subclass__', '__le__', '__lt__', '__module__', '__ne__', '__new__', '__reduce__', '__reduce_ex__', '__repr__', '__setattr__', '__sizeof__', '__str__', '__subclasshook__', '__weakref__', 'calcul_tree_proximity_loss', 'clf', 'cluster_sizes', 'dim_reduction', 'dissim_method', 'extract_final_trees', 'feature_represent', 'fidelity_measure', 'final_trees_idx', 'get_params', 'jaccard_pair_distance', 'local_prediction', 'main_fit', 'n_clusters', 'n_dims', 'n_trees', 'oracle_prediction', 'oracle_sample', 'output_explain', 'pre_select_loss', 'pre_selection_trees', 'preselect_represent_cluster_trees', 'print_rules', 'proj_method', 'sample', 'score', 'set_params', 'set_up', 'tranform_to_symm_matrix', 'tree_prediction', 'verbose']\n",
      "n dims: 2 n clusts: 2 n trees 60\n",
      "Error during preselect_represent_cluster_trees: 'NoneType' object has no attribute 'split'\n"
     ]
    },
    {
     "ename": "AttributeError",
     "evalue": "'NoneType' object has no attribute 'split'",
     "output_type": "error",
     "traceback": [
      "\u001b[1;31m---------------------------------------------------------------------------\u001b[0m",
      "\u001b[1;31mAttributeError\u001b[0m                            Traceback (most recent call last)",
      "Cell \u001b[1;32mIn[11], line 22\u001b[0m\n\u001b[0;32m     16\u001b[0m FILE_OUT \u001b[38;5;241m=\u001b[39m os\u001b[38;5;241m.\u001b[39mpath\u001b[38;5;241m.\u001b[39mjoin(explan_dir, \u001b[38;5;124m\"\u001b[39m\u001b[38;5;124mRules_\u001b[39m\u001b[38;5;124m\"\u001b[39m\u001b[38;5;241m+\u001b[39m\u001b[38;5;28mstr\u001b[39m(SETUP)\u001b[38;5;241m+\u001b[39m\u001b[38;5;124m'\u001b[39m\u001b[38;5;124m_id\u001b[39m\u001b[38;5;124m'\u001b[39m\u001b[38;5;241m+\u001b[39m\u001b[38;5;28mstr\u001b[39m(i)\u001b[38;5;241m+\u001b[39m\u001b[38;5;124m'\u001b[39m\u001b[38;5;124m.txt\u001b[39m\u001b[38;5;124m'\u001b[39m)\n\u001b[0;32m     18\u001b[0m \u001b[38;5;66;03m# call the .explain method. The hyperparameters are given from the .fit step\u001b[39;00m\n\u001b[0;32m     19\u001b[0m \u001b[38;5;66;03m# sample_info, fig, axis = Btrex_fitted.explain(X_test, i, show=True, plot_gui=False,\u001b[39;00m\n\u001b[0;32m     20\u001b[0m                                             \u001b[38;5;66;03m#   out_file=FILE_OUT)\u001b[39;00m\n\u001b[1;32m---> 22\u001b[0m tuned_method \u001b[38;5;241m=\u001b[39m \u001b[43mBtrex_fitted\u001b[49m\u001b[38;5;241;43m.\u001b[39;49m\u001b[43mexplain\u001b[49m\u001b[43m(\u001b[49m\u001b[43mX_test\u001b[49m\u001b[43m,\u001b[49m\u001b[43m \u001b[49m\u001b[43mi\u001b[49m\u001b[43m)\u001b[49m\n\u001b[0;32m     23\u001b[0m tuned_method\u001b[38;5;241m.\u001b[39mplot_overview(show\u001b[38;5;241m=\u001b[39m\u001b[38;5;28;01mTrue\u001b[39;00m)\n",
      "File \u001b[1;32mc:\\users\\u0135479\\documents\\github\\bellatrex_pip\\app\\bellatrex\\LocalMethod_class.py:261\u001b[0m, in \u001b[0;36mBellatrexExplain.explain\u001b[1;34m(self, X, idx)\u001b[0m\n\u001b[0;32m    259\u001b[0m \u001b[38;5;28mprint\u001b[39m(\u001b[38;5;28mtype\u001b[39m(trees_extract), \u001b[38;5;124m\"\u001b[39m\u001b[38;5;124mdir:\u001b[39m\u001b[38;5;124m\"\u001b[39m, \u001b[38;5;28mdir\u001b[39m(trees_extract))\n\u001b[0;32m    260\u001b[0m \u001b[38;5;28;01mtry\u001b[39;00m:\n\u001b[1;32m--> 261\u001b[0m     candidate \u001b[38;5;241m=\u001b[39m \u001b[43mtrees_extract\u001b[49m\u001b[38;5;241;43m.\u001b[39;49m\u001b[43mset_params\u001b[49m\u001b[43m(\u001b[49m\u001b[38;5;241;43m*\u001b[39;49m\u001b[38;5;241;43m*\u001b[39;49m\u001b[43mparams\u001b[49m\u001b[43m)\u001b[49m\u001b[38;5;241;43m.\u001b[39;49m\u001b[43mmain_fit\u001b[49m\u001b[43m(\u001b[49m\u001b[43m)\u001b[49m\n\u001b[0;32m    262\u001b[0m     perf \u001b[38;5;241m=\u001b[39m candidate\u001b[38;5;241m.\u001b[39mscore(\u001b[38;5;28mself\u001b[39m\u001b[38;5;241m.\u001b[39mfidelity_measure, \u001b[38;5;28mself\u001b[39m\u001b[38;5;241m.\u001b[39mys_oracle)\n\u001b[0;32m    263\u001b[0m \u001b[38;5;28;01mexcept\u001b[39;00m (ConvergenceWarning, \u001b[38;5;167;01mKeyboardInterrupt\u001b[39;00m) \u001b[38;5;28;01mas\u001b[39;00m e:\n",
      "File \u001b[1;32mc:\\users\\u0135479\\documents\\github\\bellatrex_pip\\app\\bellatrex\\TreeExtraction_class.py:110\u001b[0m, in \u001b[0;36mTreeExtraction.main_fit\u001b[1;34m(self)\u001b[0m\n\u001b[0;32m     79\u001b[0m \u001b[38;5;250m\u001b[39m\u001b[38;5;124;03m'''\u001b[39;00m\n\u001b[0;32m     80\u001b[0m \u001b[38;5;124;03mthis is the main function, does the following:\u001b[39;00m\n\u001b[0;32m     81\u001b[0m \u001b[38;5;124;03m    raw_tree data:\u001b[39;00m\n\u001b[1;32m   (...)\u001b[0m\n\u001b[0;32m    107\u001b[0m \u001b[38;5;124;03m          loss=HL_losses)       ---> distance ( loss) to full RF prediction \u001b[39;00m\n\u001b[0;32m    108\u001b[0m \u001b[38;5;124;03m'''\u001b[39;00m\n\u001b[0;32m    109\u001b[0m \u001b[38;5;28;01mtry\u001b[39;00m:\n\u001b[1;32m--> 110\u001b[0m     kmeans, HL_bunch \u001b[38;5;241m=\u001b[39m \u001b[38;5;28;43mself\u001b[39;49m\u001b[38;5;241;43m.\u001b[39;49m\u001b[43mpreselect_represent_cluster_trees\u001b[49m\u001b[43m(\u001b[49m\u001b[43m)\u001b[49m\n\u001b[0;32m    111\u001b[0m \u001b[38;5;28;01mexcept\u001b[39;00m \u001b[38;5;167;01mAttributeError\u001b[39;00m \u001b[38;5;28;01mas\u001b[39;00m e:\n\u001b[0;32m    112\u001b[0m     \u001b[38;5;28mprint\u001b[39m(\u001b[38;5;124m\"\u001b[39m\u001b[38;5;124mError during preselect_represent_cluster_trees:\u001b[39m\u001b[38;5;124m\"\u001b[39m, e)\n",
      "File \u001b[1;32mc:\\users\\u0135479\\documents\\github\\bellatrex_pip\\app\\bellatrex\\TreeExtraction_class.py:191\u001b[0m, in \u001b[0;36mTreeExtraction.preselect_represent_cluster_trees\u001b[1;34m(self)\u001b[0m\n\u001b[0;32m    186\u001b[0m     \u001b[38;5;28;01mwith\u001b[39;00m warnings\u001b[38;5;241m.\u001b[39mcatch_warnings(): \u001b[38;5;66;03m# ignore known issue on scikit-learn (as of scikit-learn 1.2.2)\u001b[39;00m\n\u001b[0;32m    187\u001b[0m         warnings\u001b[38;5;241m.\u001b[39mfilterwarnings(\u001b[38;5;124m\"\u001b[39m\u001b[38;5;124mignore\u001b[39m\u001b[38;5;124m\"\u001b[39m, message\u001b[38;5;241m=\u001b[39m\u001b[38;5;124m\"\u001b[39m\u001b[38;5;124m.*memory leak on Windows with MKL*\u001b[39m\u001b[38;5;124m\"\u001b[39m)\n\u001b[0;32m    188\u001b[0m         kmeans \u001b[38;5;241m=\u001b[39m \u001b[43mKMeans\u001b[49m\u001b[43m(\u001b[49m\u001b[43mn_clusters\u001b[49m\u001b[38;5;241;43m=\u001b[39;49m\u001b[38;5;28;43mself\u001b[39;49m\u001b[38;5;241;43m.\u001b[39;49m\u001b[43mn_clusters\u001b[49m\u001b[43m,\u001b[49m\n\u001b[0;32m    189\u001b[0m \u001b[43m                        \u001b[49m\u001b[43minit\u001b[49m\u001b[38;5;241;43m=\u001b[39;49m\u001b[38;5;124;43m'\u001b[39;49m\u001b[38;5;124;43mk-means++\u001b[39;49m\u001b[38;5;124;43m'\u001b[39;49m\u001b[43m,\u001b[49m\u001b[43m \u001b[49m\u001b[43mn_init\u001b[49m\u001b[38;5;241;43m=\u001b[39;49m\u001b[38;5;241;43m10\u001b[39;49m\u001b[43m,\u001b[49m\n\u001b[0;32m    190\u001b[0m \u001b[43m                        \u001b[49m\u001b[43mmax_iter\u001b[49m\u001b[38;5;241;43m=\u001b[39;49m\u001b[38;5;241;43m5000\u001b[39;49m\u001b[43m,\u001b[49m\n\u001b[1;32m--> 191\u001b[0m \u001b[43m                        \u001b[49m\u001b[43mrandom_state\u001b[49m\u001b[38;5;241;43m=\u001b[39;49m\u001b[43mTreeExtraction\u001b[49m\u001b[38;5;241;43m.\u001b[39;49m\u001b[43mRAND_SEED\u001b[49m\u001b[43m)\u001b[49m\u001b[38;5;241;43m.\u001b[39;49m\u001b[43mfit\u001b[49m\u001b[43m(\u001b[49m\u001b[43mproj_trees\u001b[49m\u001b[43m)\u001b[49m\n\u001b[0;32m    193\u001b[0m \u001b[38;5;28;01melse\u001b[39;00m: \u001b[38;5;66;03m#avoid running K-Means (raises warning)\u001b[39;00m\n\u001b[0;32m    194\u001b[0m     \u001b[38;5;66;03m#output info in the same format so that the cases are indistinguishable\u001b[39;00m\n\u001b[0;32m    195\u001b[0m     one_label \u001b[38;5;241m=\u001b[39m np\u001b[38;5;241m.\u001b[39mzeros(proj_trees\u001b[38;5;241m.\u001b[39mshape[\u001b[38;5;241m0\u001b[39m], dtype\u001b[38;5;241m=\u001b[39mnp\u001b[38;5;241m.\u001b[39mint32)\n",
      "File \u001b[1;32mc:\\Users\\u0135479\\AppData\\Local\\anaconda3\\lib\\site-packages\\sklearn\\base.py:1152\u001b[0m, in \u001b[0;36m_fit_context.<locals>.decorator.<locals>.wrapper\u001b[1;34m(estimator, *args, **kwargs)\u001b[0m\n\u001b[0;32m   1145\u001b[0m     estimator\u001b[38;5;241m.\u001b[39m_validate_params()\n\u001b[0;32m   1147\u001b[0m \u001b[38;5;28;01mwith\u001b[39;00m config_context(\n\u001b[0;32m   1148\u001b[0m     skip_parameter_validation\u001b[38;5;241m=\u001b[39m(\n\u001b[0;32m   1149\u001b[0m         prefer_skip_nested_validation \u001b[38;5;129;01mor\u001b[39;00m global_skip_validation\n\u001b[0;32m   1150\u001b[0m     )\n\u001b[0;32m   1151\u001b[0m ):\n\u001b[1;32m-> 1152\u001b[0m     \u001b[38;5;28;01mreturn\u001b[39;00m fit_method(estimator, \u001b[38;5;241m*\u001b[39margs, \u001b[38;5;241m*\u001b[39m\u001b[38;5;241m*\u001b[39mkwargs)\n",
      "File \u001b[1;32mc:\\Users\\u0135479\\AppData\\Local\\anaconda3\\lib\\site-packages\\sklearn\\cluster\\_kmeans.py:1513\u001b[0m, in \u001b[0;36mKMeans.fit\u001b[1;34m(self, X, y, sample_weight)\u001b[0m\n\u001b[0;32m   1511\u001b[0m \u001b[38;5;28;01melse\u001b[39;00m:\n\u001b[0;32m   1512\u001b[0m     kmeans_single \u001b[38;5;241m=\u001b[39m _kmeans_single_lloyd\n\u001b[1;32m-> 1513\u001b[0m     \u001b[38;5;28;43mself\u001b[39;49m\u001b[38;5;241;43m.\u001b[39;49m\u001b[43m_check_mkl_vcomp\u001b[49m\u001b[43m(\u001b[49m\u001b[43mX\u001b[49m\u001b[43m,\u001b[49m\u001b[43m \u001b[49m\u001b[43mX\u001b[49m\u001b[38;5;241;43m.\u001b[39;49m\u001b[43mshape\u001b[49m\u001b[43m[\u001b[49m\u001b[38;5;241;43m0\u001b[39;49m\u001b[43m]\u001b[49m\u001b[43m)\u001b[49m\n\u001b[0;32m   1515\u001b[0m best_inertia, best_labels \u001b[38;5;241m=\u001b[39m \u001b[38;5;28;01mNone\u001b[39;00m, \u001b[38;5;28;01mNone\u001b[39;00m\n\u001b[0;32m   1517\u001b[0m \u001b[38;5;28;01mfor\u001b[39;00m i \u001b[38;5;129;01min\u001b[39;00m \u001b[38;5;28mrange\u001b[39m(\u001b[38;5;28mself\u001b[39m\u001b[38;5;241m.\u001b[39m_n_init):\n\u001b[0;32m   1518\u001b[0m     \u001b[38;5;66;03m# Initialize centers\u001b[39;00m\n",
      "File \u001b[1;32mc:\\Users\\u0135479\\AppData\\Local\\anaconda3\\lib\\site-packages\\sklearn\\cluster\\_kmeans.py:927\u001b[0m, in \u001b[0;36m_BaseKMeans._check_mkl_vcomp\u001b[1;34m(self, X, n_samples)\u001b[0m\n\u001b[0;32m    925\u001b[0m n_active_threads \u001b[38;5;241m=\u001b[39m \u001b[38;5;28mint\u001b[39m(np\u001b[38;5;241m.\u001b[39mceil(n_samples \u001b[38;5;241m/\u001b[39m CHUNK_SIZE))\n\u001b[0;32m    926\u001b[0m \u001b[38;5;28;01mif\u001b[39;00m n_active_threads \u001b[38;5;241m<\u001b[39m \u001b[38;5;28mself\u001b[39m\u001b[38;5;241m.\u001b[39m_n_threads:\n\u001b[1;32m--> 927\u001b[0m     modules \u001b[38;5;241m=\u001b[39m \u001b[43mthreadpool_info\u001b[49m\u001b[43m(\u001b[49m\u001b[43m)\u001b[49m\n\u001b[0;32m    928\u001b[0m     has_vcomp \u001b[38;5;241m=\u001b[39m \u001b[38;5;124m\"\u001b[39m\u001b[38;5;124mvcomp\u001b[39m\u001b[38;5;124m\"\u001b[39m \u001b[38;5;129;01min\u001b[39;00m [module[\u001b[38;5;124m\"\u001b[39m\u001b[38;5;124mprefix\u001b[39m\u001b[38;5;124m\"\u001b[39m] \u001b[38;5;28;01mfor\u001b[39;00m module \u001b[38;5;129;01min\u001b[39;00m modules]\n\u001b[0;32m    929\u001b[0m     has_mkl \u001b[38;5;241m=\u001b[39m (\u001b[38;5;124m\"\u001b[39m\u001b[38;5;124mmkl\u001b[39m\u001b[38;5;124m\"\u001b[39m, \u001b[38;5;124m\"\u001b[39m\u001b[38;5;124mintel\u001b[39m\u001b[38;5;124m\"\u001b[39m) \u001b[38;5;129;01min\u001b[39;00m [\n\u001b[0;32m    930\u001b[0m         (module[\u001b[38;5;124m\"\u001b[39m\u001b[38;5;124minternal_api\u001b[39m\u001b[38;5;124m\"\u001b[39m], module\u001b[38;5;241m.\u001b[39mget(\u001b[38;5;124m\"\u001b[39m\u001b[38;5;124mthreading_layer\u001b[39m\u001b[38;5;124m\"\u001b[39m, \u001b[38;5;28;01mNone\u001b[39;00m))\n\u001b[0;32m    931\u001b[0m         \u001b[38;5;28;01mfor\u001b[39;00m module \u001b[38;5;129;01min\u001b[39;00m modules\n\u001b[0;32m    932\u001b[0m     ]\n",
      "File \u001b[1;32mc:\\Users\\u0135479\\AppData\\Local\\anaconda3\\lib\\site-packages\\sklearn\\utils\\fixes.py:85\u001b[0m, in \u001b[0;36mthreadpool_info\u001b[1;34m()\u001b[0m\n\u001b[0;32m     83\u001b[0m     \u001b[38;5;28;01mreturn\u001b[39;00m controller\u001b[38;5;241m.\u001b[39minfo()\n\u001b[0;32m     84\u001b[0m \u001b[38;5;28;01melse\u001b[39;00m:\n\u001b[1;32m---> 85\u001b[0m     \u001b[38;5;28;01mreturn\u001b[39;00m \u001b[43mthreadpoolctl\u001b[49m\u001b[38;5;241;43m.\u001b[39;49m\u001b[43mthreadpool_info\u001b[49m\u001b[43m(\u001b[49m\u001b[43m)\u001b[49m\n",
      "File \u001b[1;32mc:\\Users\\u0135479\\AppData\\Local\\anaconda3\\lib\\site-packages\\threadpoolctl.py:124\u001b[0m, in \u001b[0;36mthreadpool_info\u001b[1;34m()\u001b[0m\n\u001b[0;32m    107\u001b[0m \u001b[38;5;129m@_format_docstring\u001b[39m(USER_APIS\u001b[38;5;241m=\u001b[39m\u001b[38;5;28mlist\u001b[39m(_ALL_USER_APIS),\n\u001b[0;32m    108\u001b[0m                    INTERNAL_APIS\u001b[38;5;241m=\u001b[39m_ALL_INTERNAL_APIS)\n\u001b[0;32m    109\u001b[0m \u001b[38;5;28;01mdef\u001b[39;00m \u001b[38;5;21mthreadpool_info\u001b[39m():\n\u001b[0;32m    110\u001b[0m \u001b[38;5;250m    \u001b[39m\u001b[38;5;124;03m\"\"\"Return the maximal number of threads for each detected library.\u001b[39;00m\n\u001b[0;32m    111\u001b[0m \n\u001b[0;32m    112\u001b[0m \u001b[38;5;124;03m    Return a list with all the supported modules that have been found. Each\u001b[39;00m\n\u001b[1;32m   (...)\u001b[0m\n\u001b[0;32m    122\u001b[0m \u001b[38;5;124;03m    In addition, each module may contain internal_api specific entries.\u001b[39;00m\n\u001b[0;32m    123\u001b[0m \u001b[38;5;124;03m    \"\"\"\u001b[39;00m\n\u001b[1;32m--> 124\u001b[0m     \u001b[38;5;28;01mreturn\u001b[39;00m \u001b[43m_ThreadpoolInfo\u001b[49m\u001b[43m(\u001b[49m\u001b[43muser_api\u001b[49m\u001b[38;5;241;43m=\u001b[39;49m\u001b[43m_ALL_USER_APIS\u001b[49m\u001b[43m)\u001b[49m\u001b[38;5;241m.\u001b[39mtodicts()\n",
      "File \u001b[1;32mc:\\Users\\u0135479\\AppData\\Local\\anaconda3\\lib\\site-packages\\threadpoolctl.py:340\u001b[0m, in \u001b[0;36m_ThreadpoolInfo.__init__\u001b[1;34m(self, user_api, prefixes, modules)\u001b[0m\n\u001b[0;32m    337\u001b[0m     \u001b[38;5;28mself\u001b[39m\u001b[38;5;241m.\u001b[39muser_api \u001b[38;5;241m=\u001b[39m [] \u001b[38;5;28;01mif\u001b[39;00m user_api \u001b[38;5;129;01mis\u001b[39;00m \u001b[38;5;28;01mNone\u001b[39;00m \u001b[38;5;28;01melse\u001b[39;00m user_api\n\u001b[0;32m    339\u001b[0m     \u001b[38;5;28mself\u001b[39m\u001b[38;5;241m.\u001b[39mmodules \u001b[38;5;241m=\u001b[39m []\n\u001b[1;32m--> 340\u001b[0m     \u001b[38;5;28;43mself\u001b[39;49m\u001b[38;5;241;43m.\u001b[39;49m\u001b[43m_load_modules\u001b[49m\u001b[43m(\u001b[49m\u001b[43m)\u001b[49m\n\u001b[0;32m    341\u001b[0m     \u001b[38;5;28mself\u001b[39m\u001b[38;5;241m.\u001b[39m_warn_if_incompatible_openmp()\n\u001b[0;32m    342\u001b[0m \u001b[38;5;28;01melse\u001b[39;00m:\n",
      "File \u001b[1;32mc:\\Users\\u0135479\\AppData\\Local\\anaconda3\\lib\\site-packages\\threadpoolctl.py:373\u001b[0m, in \u001b[0;36m_ThreadpoolInfo._load_modules\u001b[1;34m(self)\u001b[0m\n\u001b[0;32m    371\u001b[0m     \u001b[38;5;28mself\u001b[39m\u001b[38;5;241m.\u001b[39m_find_modules_with_dyld()\n\u001b[0;32m    372\u001b[0m \u001b[38;5;28;01melif\u001b[39;00m sys\u001b[38;5;241m.\u001b[39mplatform \u001b[38;5;241m==\u001b[39m \u001b[38;5;124m\"\u001b[39m\u001b[38;5;124mwin32\u001b[39m\u001b[38;5;124m\"\u001b[39m:\n\u001b[1;32m--> 373\u001b[0m     \u001b[38;5;28;43mself\u001b[39;49m\u001b[38;5;241;43m.\u001b[39;49m\u001b[43m_find_modules_with_enum_process_module_ex\u001b[49m\u001b[43m(\u001b[49m\u001b[43m)\u001b[49m\n\u001b[0;32m    374\u001b[0m \u001b[38;5;28;01melse\u001b[39;00m:\n\u001b[0;32m    375\u001b[0m     \u001b[38;5;28mself\u001b[39m\u001b[38;5;241m.\u001b[39m_find_modules_with_dl_iterate_phdr()\n",
      "File \u001b[1;32mc:\\Users\\u0135479\\AppData\\Local\\anaconda3\\lib\\site-packages\\threadpoolctl.py:485\u001b[0m, in \u001b[0;36m_ThreadpoolInfo._find_modules_with_enum_process_module_ex\u001b[1;34m(self)\u001b[0m\n\u001b[0;32m    482\u001b[0m         filepath \u001b[38;5;241m=\u001b[39m buf\u001b[38;5;241m.\u001b[39mvalue\n\u001b[0;32m    484\u001b[0m         \u001b[38;5;66;03m# Store the module if it is supported and selected\u001b[39;00m\n\u001b[1;32m--> 485\u001b[0m         \u001b[38;5;28;43mself\u001b[39;49m\u001b[38;5;241;43m.\u001b[39;49m\u001b[43m_make_module_from_path\u001b[49m\u001b[43m(\u001b[49m\u001b[43mfilepath\u001b[49m\u001b[43m)\u001b[49m\n\u001b[0;32m    486\u001b[0m \u001b[38;5;28;01mfinally\u001b[39;00m:\n\u001b[0;32m    487\u001b[0m     kernel_32\u001b[38;5;241m.\u001b[39mCloseHandle(h_process)\n",
      "File \u001b[1;32mc:\\Users\\u0135479\\AppData\\Local\\anaconda3\\lib\\site-packages\\threadpoolctl.py:515\u001b[0m, in \u001b[0;36m_ThreadpoolInfo._make_module_from_path\u001b[1;34m(self, filepath)\u001b[0m\n\u001b[0;32m    513\u001b[0m \u001b[38;5;28;01mif\u001b[39;00m prefix \u001b[38;5;129;01min\u001b[39;00m \u001b[38;5;28mself\u001b[39m\u001b[38;5;241m.\u001b[39mprefixes \u001b[38;5;129;01mor\u001b[39;00m user_api \u001b[38;5;129;01min\u001b[39;00m \u001b[38;5;28mself\u001b[39m\u001b[38;5;241m.\u001b[39muser_api:\n\u001b[0;32m    514\u001b[0m     module_class \u001b[38;5;241m=\u001b[39m \u001b[38;5;28mglobals\u001b[39m()[module_class]\n\u001b[1;32m--> 515\u001b[0m     module \u001b[38;5;241m=\u001b[39m \u001b[43mmodule_class\u001b[49m\u001b[43m(\u001b[49m\u001b[43mfilepath\u001b[49m\u001b[43m,\u001b[49m\u001b[43m \u001b[49m\u001b[43mprefix\u001b[49m\u001b[43m,\u001b[49m\u001b[43m \u001b[49m\u001b[43muser_api\u001b[49m\u001b[43m,\u001b[49m\u001b[43m \u001b[49m\u001b[43minternal_api\u001b[49m\u001b[43m)\u001b[49m\n\u001b[0;32m    516\u001b[0m     \u001b[38;5;28mself\u001b[39m\u001b[38;5;241m.\u001b[39mmodules\u001b[38;5;241m.\u001b[39mappend(module)\n",
      "File \u001b[1;32mc:\\Users\\u0135479\\AppData\\Local\\anaconda3\\lib\\site-packages\\threadpoolctl.py:606\u001b[0m, in \u001b[0;36m_Module.__init__\u001b[1;34m(self, filepath, prefix, user_api, internal_api)\u001b[0m\n\u001b[0;32m    604\u001b[0m \u001b[38;5;28mself\u001b[39m\u001b[38;5;241m.\u001b[39minternal_api \u001b[38;5;241m=\u001b[39m internal_api\n\u001b[0;32m    605\u001b[0m \u001b[38;5;28mself\u001b[39m\u001b[38;5;241m.\u001b[39m_dynlib \u001b[38;5;241m=\u001b[39m ctypes\u001b[38;5;241m.\u001b[39mCDLL(filepath, mode\u001b[38;5;241m=\u001b[39m_RTLD_NOLOAD)\n\u001b[1;32m--> 606\u001b[0m \u001b[38;5;28mself\u001b[39m\u001b[38;5;241m.\u001b[39mversion \u001b[38;5;241m=\u001b[39m \u001b[38;5;28;43mself\u001b[39;49m\u001b[38;5;241;43m.\u001b[39;49m\u001b[43mget_version\u001b[49m\u001b[43m(\u001b[49m\u001b[43m)\u001b[49m\n\u001b[0;32m    607\u001b[0m \u001b[38;5;28mself\u001b[39m\u001b[38;5;241m.\u001b[39mnum_threads \u001b[38;5;241m=\u001b[39m \u001b[38;5;28mself\u001b[39m\u001b[38;5;241m.\u001b[39mget_num_threads()\n\u001b[0;32m    608\u001b[0m \u001b[38;5;28mself\u001b[39m\u001b[38;5;241m.\u001b[39m_get_extra_info()\n",
      "File \u001b[1;32mc:\\Users\\u0135479\\AppData\\Local\\anaconda3\\lib\\site-packages\\threadpoolctl.py:646\u001b[0m, in \u001b[0;36m_OpenBLASModule.get_version\u001b[1;34m(self)\u001b[0m\n\u001b[0;32m    643\u001b[0m get_config \u001b[38;5;241m=\u001b[39m \u001b[38;5;28mgetattr\u001b[39m(\u001b[38;5;28mself\u001b[39m\u001b[38;5;241m.\u001b[39m_dynlib, \u001b[38;5;124m\"\u001b[39m\u001b[38;5;124mopenblas_get_config\u001b[39m\u001b[38;5;124m\"\u001b[39m,\n\u001b[0;32m    644\u001b[0m                      \u001b[38;5;28;01mlambda\u001b[39;00m: \u001b[38;5;28;01mNone\u001b[39;00m)\n\u001b[0;32m    645\u001b[0m get_config\u001b[38;5;241m.\u001b[39mrestype \u001b[38;5;241m=\u001b[39m ctypes\u001b[38;5;241m.\u001b[39mc_char_p\n\u001b[1;32m--> 646\u001b[0m config \u001b[38;5;241m=\u001b[39m \u001b[43mget_config\u001b[49m\u001b[43m(\u001b[49m\u001b[43m)\u001b[49m\u001b[38;5;241;43m.\u001b[39;49m\u001b[43msplit\u001b[49m()\n\u001b[0;32m    647\u001b[0m \u001b[38;5;28;01mif\u001b[39;00m config[\u001b[38;5;241m0\u001b[39m] \u001b[38;5;241m==\u001b[39m \u001b[38;5;124mb\u001b[39m\u001b[38;5;124m\"\u001b[39m\u001b[38;5;124mOpenBLAS\u001b[39m\u001b[38;5;124m\"\u001b[39m:\n\u001b[0;32m    648\u001b[0m     \u001b[38;5;28;01mreturn\u001b[39;00m config[\u001b[38;5;241m1\u001b[39m]\u001b[38;5;241m.\u001b[39mdecode(\u001b[38;5;124m\"\u001b[39m\u001b[38;5;124mutf-8\u001b[39m\u001b[38;5;124m\"\u001b[39m)\n",
      "\u001b[1;31mAttributeError\u001b[0m: 'NoneType' object has no attribute 'split'"
     ]
    }
   ],
   "source": [
    "#fit RF here. The hyperparameters are given\n",
    "# compatible with trained model clf, and with a wrapped dictionary as in clf1        \n",
    "Btrex_fitted = BellatrexExplain(clf, set_up='auto',\n",
    "                                verbose=3).fit(X_train, y_train)\n",
    "\n",
    "import matplotlib.pyplot as plt\n",
    "from bellatrex.visualisation import read_rules, plot_rules\n",
    "\n",
    "for i in range(MAX_TEST_SAMPLES): #iterate for the first few samples in the test set\n",
    "\n",
    "    print(f\"Explaining sample i={i}\")\n",
    "    \n",
    "    # Store the extracted rules in dedicated folder, if needed:\n",
    "    explan_dir = os.path.join(root_folder, \"explanations-out\")\n",
    "    os.makedirs(explan_dir, exist_ok=True)\n",
    "    FILE_OUT = os.path.join(explan_dir, \"Rules_\"+str(SETUP)+'_id'+str(i)+'.txt')\n",
    "\n",
    "    # call the .explain method. The hyperparameters are given from the .fit step\n",
    "    # sample_info, fig, axis = Btrex_fitted.explain(X_test, i, show=True, plot_gui=False,\n",
    "                                                #   out_file=FILE_OUT)\n",
    "\n",
    "    tuned_method = Btrex_fitted.explain(X_test, i)\n",
    "    tuned_method.plot_overview(show=True)\n"
   ]
  },
  {
   "cell_type": "code",
   "execution_count": null,
   "metadata": {},
   "outputs": [],
   "source": [
    "if clf.n_outputs_ == 1:\n",
    "    FILE_OUT_EXTRA = f\"{os.path.splitext(FILE_OUT)[0]}-extra{os.path.splitext(FILE_OUT)[1]}\"\n",
    "\n",
    "    rules, preds, baselines, weights, other_preds = read_rules(file=FILE_OUT,\n",
    "                                                            file_extra=FILE_OUT_EXTRA)\n",
    "    preds_distr = y_train # if SETUP == 'binary' else None\n",
    "\n",
    "    fig, axs = plot_rules(rules, preds, baselines, weights, \n",
    "                max_rulelen=6, other_preds=other_preds, preds_distr=preds_distr,\n",
    "    )\n",
    "    plt.show()\n",
    "    print('#'*30)\n",
    "y_pred = clf.predict_proba(X_test.iloc[[i]])[:,1] if 'predict_proba' in dir(clf) and clf.n_outputs_ == 1 else clf.predict(X_test.iloc[[i]])\n",
    "if y_pred.ndim == 1:\n",
    "    print(f'Bellatrex surrogate prediction: {float(sample_info.prediction):.3g}')\n",
    "    print(f'Original, black-box prediction: {float(y_pred):.3g}')"
   ]
  }
 ],
 "metadata": {
  "kernelspec": {
   "display_name": "base",
   "language": "python",
   "name": "python3"
  },
  "language_info": {
   "codemirror_mode": {
    "name": "ipython",
    "version": 3
   },
   "file_extension": ".py",
   "mimetype": "text/x-python",
   "name": "python",
   "nbconvert_exporter": "python",
   "pygments_lexer": "ipython3",
   "version": "3.10.13"
  }
 },
 "nbformat": 4,
 "nbformat_minor": 2
}
